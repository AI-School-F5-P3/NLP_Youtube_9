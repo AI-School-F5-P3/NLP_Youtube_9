{
 "cells": [
  {
   "cell_type": "code",
   "execution_count": 6,
   "metadata": {},
   "outputs": [],
   "source": [
    "import numpy as np \n",
    "import pandas as pd\n",
    "import matplotlib.pyplot as plt\n",
    "import seaborn as sns\n",
    "import os"
   ]
  },
  {
   "cell_type": "code",
   "execution_count": 8,
   "metadata": {},
   "outputs": [],
   "source": [
    "current_dir = os.getcwd()\n",
    "data_dir = os.path.join(current_dir, '..', 'data')\n",
    "file_path = os.path.join(data_dir, 'youtoxic_english_1000.csv')"
   ]
  },
  {
   "cell_type": "code",
   "execution_count": 9,
   "metadata": {},
   "outputs": [],
   "source": [
    "df = pd.read_csv(file_path)"
   ]
  },
  {
   "cell_type": "code",
   "execution_count": 12,
   "metadata": {},
   "outputs": [
    {
     "data": {
      "text/plain": [
       "(1000, 15)"
      ]
     },
     "execution_count": 12,
     "metadata": {},
     "output_type": "execute_result"
    }
   ],
   "source": [
    "df.shape"
   ]
  },
  {
   "cell_type": "code",
   "execution_count": 11,
   "metadata": {},
   "outputs": [
    {
     "data": {
      "text/plain": [
       "<bound method NDFrame.head of                 CommentId      VideoId  \\\n",
       "0    Ugg2KwwX0V8-aXgCoAEC  04kJtp6pVXI   \n",
       "1    Ugg2s5AzSPioEXgCoAEC  04kJtp6pVXI   \n",
       "2    Ugg3dWTOxryFfHgCoAEC  04kJtp6pVXI   \n",
       "3    Ugg7Gd006w1MPngCoAEC  04kJtp6pVXI   \n",
       "4    Ugg8FfTbbNF8IngCoAEC  04kJtp6pVXI   \n",
       "..                    ...          ...   \n",
       "995  Ugi5ADt10EdDz3gCoAEC  XRuCW80L9mA   \n",
       "996  Ugifh2DMhBbDkHgCoAEC  XRuCW80L9mA   \n",
       "997  Ugj_plbGBjjzYXgCoAEC  XRuCW80L9mA   \n",
       "998  Ugj0bah1De8xy3gCoAEC  XRuCW80L9mA   \n",
       "999  UgjBJKQSoQMQ6ngCoAEC  XRuCW80L9mA   \n",
       "\n",
       "                                                  Text  IsToxic  IsAbusive  \\\n",
       "0    If only people would just take a step back and...    False      False   \n",
       "1    Law enforcement is not trained to shoot to app...     True       True   \n",
       "2    \\nDont you reckon them 'black lives matter' ba...     True       True   \n",
       "3    There are a very large number of people who do...    False      False   \n",
       "4    The Arab dude is absolutely right, he should h...    False      False   \n",
       "..                                                 ...      ...        ...   \n",
       "995  I remember that they sent in the national defe...    False      False   \n",
       "996  Stats don`t represent the problem. Race baitin...     True      False   \n",
       "997  The quote from the mother... Wow that hit hard...    False      False   \n",
       "998                            this video is so racist    False      False   \n",
       "999      God, the narrator has such an annoying lisp.     False      False   \n",
       "\n",
       "     IsThreat  IsProvocative  IsObscene  IsHatespeech  IsRacist  \\\n",
       "0       False          False      False         False     False   \n",
       "1       False          False      False         False     False   \n",
       "2       False          False       True         False     False   \n",
       "3       False          False      False         False     False   \n",
       "4       False          False      False         False     False   \n",
       "..        ...            ...        ...           ...       ...   \n",
       "995     False          False      False         False     False   \n",
       "996     False          False      False          True      True   \n",
       "997     False          False      False         False     False   \n",
       "998     False          False      False         False     False   \n",
       "999     False          False      False         False     False   \n",
       "\n",
       "     IsNationalist  IsSexist  IsHomophobic  IsReligiousHate  IsRadicalism  \n",
       "0            False     False         False            False         False  \n",
       "1            False     False         False            False         False  \n",
       "2            False     False         False            False         False  \n",
       "3            False     False         False            False         False  \n",
       "4            False     False         False            False         False  \n",
       "..             ...       ...           ...              ...           ...  \n",
       "995          False     False         False            False         False  \n",
       "996          False     False         False            False         False  \n",
       "997          False     False         False            False         False  \n",
       "998          False     False         False            False         False  \n",
       "999          False     False         False            False         False  \n",
       "\n",
       "[1000 rows x 15 columns]>"
      ]
     },
     "execution_count": 11,
     "metadata": {},
     "output_type": "execute_result"
    }
   ],
   "source": [
    "df.head"
   ]
  }
 ],
 "metadata": {
  "kernelspec": {
   "display_name": "Python 3",
   "language": "python",
   "name": "python3"
  },
  "language_info": {
   "codemirror_mode": {
    "name": "ipython",
    "version": 3
   },
   "file_extension": ".py",
   "mimetype": "text/x-python",
   "name": "python",
   "nbconvert_exporter": "python",
   "pygments_lexer": "ipython3",
   "version": "3.12.4"
  }
 },
 "nbformat": 4,
 "nbformat_minor": 2
}
