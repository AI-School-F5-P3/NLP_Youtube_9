{
 "cells": [
  {
   "cell_type": "code",
   "execution_count": 239,
   "metadata": {},
   "outputs": [],
   "source": [
    "import os\n",
    "import pandas as pd\n",
    "import nltk\n",
    "import string\n",
    "from nltk.corpus import stopwords\n",
    "from nltk.tokenize import word_tokenize\n",
    "from nltk.stem import WordNetLemmatizer\n",
    "import re"
   ]
  },
  {
   "cell_type": "code",
   "execution_count": 240,
   "metadata": {},
   "outputs": [
    {
     "data": {
      "text/plain": [
       "\"\\nnltk.download('punkt')\\nnltk.download('punkt_tab')\\nnltk.download('stopwords')\\nnltk.download('wordnet')\\n\""
      ]
     },
     "execution_count": 240,
     "metadata": {},
     "output_type": "execute_result"
    }
   ],
   "source": [
    "'''\n",
    "nltk.download('punkt')\n",
    "nltk.download('punkt_tab')\n",
    "nltk.download('stopwords')\n",
    "nltk.download('wordnet')\n",
    "'''"
   ]
  },
  {
   "cell_type": "code",
   "execution_count": 241,
   "metadata": {},
   "outputs": [],
   "source": [
    "current_dir = os.getcwd()\n",
    "data_dir = os.path.join(current_dir, '..', 'data')\n",
    "file_path = os.path.join(data_dir, 'youtoxic_english_1000.csv')"
   ]
  },
  {
   "cell_type": "code",
   "execution_count": 242,
   "metadata": {},
   "outputs": [],
   "source": [
    "df = pd.read_csv(file_path)"
   ]
  },
  {
   "cell_type": "code",
   "execution_count": 243,
   "metadata": {},
   "outputs": [],
   "source": [
    "lemmatizer = WordNetLemmatizer()"
   ]
  },
  {
   "cell_type": "code",
   "execution_count": 244,
   "metadata": {},
   "outputs": [],
   "source": [
    "def preprocess_text(text):\n",
    "    text = text.lower()\n",
    "\n",
    "    text = re.sub(f\"[{string.punctuation}]\", \"\", text)\n",
    "\n",
    "    tokens = word_tokenize(text)\n",
    "\n",
    "    stop_words = set(stopwords.words('english'))\n",
    "    tokens = [word for word in tokens if word not in stop_words]\n",
    "\n",
    "    tokens = [lemmatizer.lemmatize(word) for word in tokens]\n",
    "    \n",
    "    return ' '.join(tokens)\n",
    "\n",
    "df['Text'] = df['Text'].apply(preprocess_text)"
   ]
  },
  {
   "cell_type": "code",
   "execution_count": 245,
   "metadata": {},
   "outputs": [],
   "source": [
    "\n",
    "from sklearn.feature_extraction.text import TfidfVectorizer\n",
    "import joblib"
   ]
  },
  {
   "cell_type": "code",
   "execution_count": 246,
   "metadata": {},
   "outputs": [],
   "source": [
    "lemmatizer = WordNetLemmatizer()"
   ]
  },
  {
   "cell_type": "code",
   "execution_count": 247,
   "metadata": {},
   "outputs": [],
   "source": [
    "hate_speech_columns = ['IsHatespeech', 'IsRacist', 'IsNationalist', 'IsSexist', 'IsHomophobic', 'IsReligiousHate', 'IsRadicalism']\n",
    "offensive_language_columns = ['IsToxic', 'IsAbusive', 'IsThreat', 'IsProvocative']"
   ]
  },
  {
   "cell_type": "code",
   "execution_count": 248,
   "metadata": {},
   "outputs": [
    {
     "name": "stdout",
     "output_type": "stream",
     "text": [
      "Number of positive hate speech samples: 138\n",
      "Number of positive offensive language samples: 462\n",
      "Category\n",
      "Neither               538\n",
      "Offensive Language    324\n",
      "Hate Speech           138\n",
      "Name: count, dtype: int64\n"
     ]
    }
   ],
   "source": [
    "def map_category(df):\n",
    "    category_mapping = {0: 'Neither', 1: 'Hate Speech', 2: 'Offensive Language'}\n",
    "\n",
    "    # Create the IsHateSpeech column\n",
    "    df['IsHateSpeech'] = df[hate_speech_columns].any(axis=1).astype(int)\n",
    "\n",
    "    # Create the IsOffensive column\n",
    "    df['IsOffensive'] = df[offensive_language_columns].any(axis=1).astype(int)\n",
    "\n",
    "    for index, row in df.iterrows():\n",
    "        if row['IsHateSpeech'] == 1:\n",
    "            df.at[index, 'Category'] = 1\n",
    "        elif row['IsOffensive'] == 1:\n",
    "            df.at[index, 'Category'] = 2\n",
    "        else:\n",
    "            df.at[index, 'Category'] = 0\n",
    "    \n",
    "    df['Category'] = df['Category'].map(category_mapping)\n",
    "\n",
    "    return df\n",
    "# Call the map_category function to update the original DataFrame\n",
    "df = map_category(df)\n",
    "\n",
    "# Get the count of positive values in IsHateSpeech and IsOffensive columns\n",
    "hate_speech_count = df['IsHateSpeech'].sum()\n",
    "offensive_count = df['IsOffensive'].sum()\n",
    "\n",
    "print(f\"Number of positive hate speech samples: {hate_speech_count}\")\n",
    "print(f\"Number of positive offensive language samples: {offensive_count}\")\n",
    "\n",
    "# Print the unique categories and their counts\n",
    "print(df['Category'].value_counts())\n"
   ]
  },
  {
   "cell_type": "code",
   "execution_count": 249,
   "metadata": {},
   "outputs": [],
   "source": [
    "vectorizer = TfidfVectorizer(max_features=5000, stop_words='english')\n",
    "X = vectorizer.fit_transform(df['Text']) "
   ]
  },
  {
   "cell_type": "code",
   "execution_count": 250,
   "metadata": {},
   "outputs": [],
   "source": [
    "X_df = pd.DataFrame(X.toarray(), columns=vectorizer.get_feature_names_out()) \n",
    "X_df['IsHateSpeech'] = df['IsHateSpeech']\n",
    "X_df['IsOffensive'] = df['IsOffensive']\n",
    "X_df['Category'] = df['Category']\n",
    "df.drop(columns=hate_speech_columns + offensive_language_columns + ['Text'] + ['IsOffensive'] + ['IsHateSpeech'], inplace=True)\n"
   ]
  },
  {
   "cell_type": "code",
   "execution_count": 251,
   "metadata": {},
   "outputs": [],
   "source": [
    "output_file = os.path.join(data_dir, 'preprocessed_data_triclase.csv')\n",
    "X_df.to_csv(output_file, index=False)"
   ]
  },
  {
   "cell_type": "code",
   "execution_count": 252,
   "metadata": {},
   "outputs": [
    {
     "data": {
      "text/plain": [
       "['c:\\\\Users\\\\iryna\\\\Desktop\\\\NLP_Youtube_9\\\\notebooks\\\\..\\\\data\\\\tfidf_vectorizer_triclase.joblib']"
      ]
     },
     "execution_count": 252,
     "metadata": {},
     "output_type": "execute_result"
    }
   ],
   "source": [
    "vectorizer_filename = os.path.join(data_dir, 'tfidf_vectorizer_triclase.joblib')\n",
    "\n",
    "# Save the vectorizer to the specified directory\n",
    "joblib.dump(vectorizer, vectorizer_filename)"
   ]
  }
 ],
 "metadata": {
  "kernelspec": {
   "display_name": "Python 3",
   "language": "python",
   "name": "python3"
  },
  "language_info": {
   "codemirror_mode": {
    "name": "ipython",
    "version": 3
   },
   "file_extension": ".py",
   "mimetype": "text/x-python",
   "name": "python",
   "nbconvert_exporter": "python",
   "pygments_lexer": "ipython3",
   "version": "3.12.4"
  }
 },
 "nbformat": 4,
 "nbformat_minor": 2
}
