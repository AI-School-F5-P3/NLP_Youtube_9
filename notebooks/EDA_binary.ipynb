{
 "cells": [
  {
   "cell_type": "code",
   "execution_count": 1,
   "metadata": {},
   "outputs": [],
   "source": [
    "import numpy as np \n",
    "import pandas as pd\n",
    "import matplotlib.pyplot as plt\n",
    "import seaborn as sns\n",
    "import os"
   ]
  },
  {
   "cell_type": "code",
   "execution_count": 2,
   "metadata": {},
   "outputs": [],
   "source": [
    "current_dir = os.getcwd()\n",
    "data_dir = os.path.join(current_dir, '..', 'data')\n",
    "file_path = os.path.join(data_dir, 'preprocessed_data.csv')"
   ]
  },
  {
   "cell_type": "code",
   "execution_count": 3,
   "metadata": {},
   "outputs": [],
   "source": [
    "df = pd.read_csv(file_path)"
   ]
  },
  {
   "cell_type": "code",
   "execution_count": 4,
   "metadata": {},
   "outputs": [
    {
     "data": {
      "text/plain": [
       "(1000, 4090)"
      ]
     },
     "execution_count": 4,
     "metadata": {},
     "output_type": "execute_result"
    }
   ],
   "source": [
    "df.shape"
   ]
  },
  {
   "cell_type": "code",
   "execution_count": 5,
   "metadata": {},
   "outputs": [
    {
     "data": {
      "text/plain": [
       "<bound method NDFrame.head of      005  010  018  034   05  0810   10  100  10000  100000  ...  youtube  \\\n",
       "0    0.0  0.0  0.0  0.0  0.0   0.0  0.0  0.0    0.0     0.0  ...      0.0   \n",
       "1    0.0  0.0  0.0  0.0  0.0   0.0  0.0  0.0    0.0     0.0  ...      0.0   \n",
       "2    0.0  0.0  0.0  0.0  0.0   0.0  0.0  0.0    0.0     0.0  ...      0.0   \n",
       "3    0.0  0.0  0.0  0.0  0.0   0.0  0.0  0.0    0.0     0.0  ...      0.0   \n",
       "4    0.0  0.0  0.0  0.0  0.0   0.0  0.0  0.0    0.0     0.0  ...      0.0   \n",
       "..   ...  ...  ...  ...  ...   ...  ...  ...    ...     ...  ...      ...   \n",
       "995  0.0  0.0  0.0  0.0  0.0   0.0  0.0  0.0    0.0     0.0  ...      0.0   \n",
       "996  0.0  0.0  0.0  0.0  0.0   0.0  0.0  0.0    0.0     0.0  ...      0.0   \n",
       "997  0.0  0.0  0.0  0.0  0.0   0.0  0.0  0.0    0.0     0.0  ...      0.0   \n",
       "998  0.0  0.0  0.0  0.0  0.0   0.0  0.0  0.0    0.0     0.0  ...      0.0   \n",
       "999  0.0  0.0  0.0  0.0  0.0   0.0  0.0  0.0    0.0     0.0  ...      0.0   \n",
       "\n",
       "     youve  ypu   yr  yup  zimmerman  zimmermans  zionist  zone  IsHateSpeech  \n",
       "0      0.0  0.0  0.0  0.0        0.0         0.0      0.0   0.0             0  \n",
       "1      0.0  0.0  0.0  0.0        0.0         0.0      0.0   0.0             1  \n",
       "2      0.0  0.0  0.0  0.0        0.0         0.0      0.0   0.0             1  \n",
       "3      0.0  0.0  0.0  0.0        0.0         0.0      0.0   0.0             0  \n",
       "4      0.0  0.0  0.0  0.0        0.0         0.0      0.0   0.0             0  \n",
       "..     ...  ...  ...  ...        ...         ...      ...   ...           ...  \n",
       "995    0.0  0.0  0.0  0.0        0.0         0.0      0.0   0.0             0  \n",
       "996    0.0  0.0  0.0  0.0        0.0         0.0      0.0   0.0             1  \n",
       "997    0.0  0.0  0.0  0.0        0.0         0.0      0.0   0.0             0  \n",
       "998    0.0  0.0  0.0  0.0        0.0         0.0      0.0   0.0             0  \n",
       "999    0.0  0.0  0.0  0.0        0.0         0.0      0.0   0.0             0  \n",
       "\n",
       "[1000 rows x 4090 columns]>"
      ]
     },
     "execution_count": 5,
     "metadata": {},
     "output_type": "execute_result"
    }
   ],
   "source": [
    "df.head"
   ]
  },
  {
   "cell_type": "code",
   "execution_count": 11,
   "metadata": {},
   "outputs": [
    {
     "name": "stdout",
     "output_type": "stream",
     "text": [
      "Class distribution in IsHateSpeech (in %):\n",
      "IsHateSpeech\n",
      "0    53.8\n",
      "1    46.2\n",
      "Name: proportion, dtype: float64\n"
     ]
    }
   ],
   "source": [
    "distribution = df['IsHateSpeech'].value_counts(normalize=True) * 100\n",
    "print(\"Class distribution in IsHateSpeech (in %):\")\n",
    "print(distribution)"
   ]
  }
 ],
 "metadata": {
  "kernelspec": {
   "display_name": "Python 3",
   "language": "python",
   "name": "python3"
  },
  "language_info": {
   "codemirror_mode": {
    "name": "ipython",
    "version": 3
   },
   "file_extension": ".py",
   "mimetype": "text/x-python",
   "name": "python",
   "nbconvert_exporter": "python",
   "pygments_lexer": "ipython3",
   "version": "3.12.4"
  }
 },
 "nbformat": 4,
 "nbformat_minor": 2
}
