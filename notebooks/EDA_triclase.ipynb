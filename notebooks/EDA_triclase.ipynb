{
 "cells": [
  {
   "cell_type": "code",
   "execution_count": 34,
   "metadata": {},
   "outputs": [],
   "source": [
    "import numpy as np \n",
    "import pandas as pd\n",
    "import matplotlib.pyplot as plt\n",
    "import seaborn as sns\n",
    "import os"
   ]
  },
  {
   "cell_type": "code",
   "execution_count": 35,
   "metadata": {},
   "outputs": [],
   "source": [
    "current_dir = os.getcwd()\n",
    "data_dir = os.path.join(current_dir, '..', 'data')\n",
    "file_path = os.path.join(data_dir, 'preprocessed_data_triclase.csv')"
   ]
  },
  {
   "cell_type": "code",
   "execution_count": 36,
   "metadata": {},
   "outputs": [],
   "source": [
    "df = pd.read_csv(file_path)"
   ]
  },
  {
   "cell_type": "code",
   "execution_count": 37,
   "metadata": {},
   "outputs": [
    {
     "data": {
      "text/plain": [
       "(1000, 4092)"
      ]
     },
     "execution_count": 37,
     "metadata": {},
     "output_type": "execute_result"
    }
   ],
   "source": [
    "df.shape"
   ]
  },
  {
   "cell_type": "code",
   "execution_count": 38,
   "metadata": {},
   "outputs": [
    {
     "data": {
      "text/plain": [
       "<bound method NDFrame.head of      005  010  018  034   05  0810   10  100  10000  100000  ...  ypu   yr  \\\n",
       "0    0.0  0.0  0.0  0.0  0.0   0.0  0.0  0.0    0.0     0.0  ...  0.0  0.0   \n",
       "1    0.0  0.0  0.0  0.0  0.0   0.0  0.0  0.0    0.0     0.0  ...  0.0  0.0   \n",
       "2    0.0  0.0  0.0  0.0  0.0   0.0  0.0  0.0    0.0     0.0  ...  0.0  0.0   \n",
       "3    0.0  0.0  0.0  0.0  0.0   0.0  0.0  0.0    0.0     0.0  ...  0.0  0.0   \n",
       "4    0.0  0.0  0.0  0.0  0.0   0.0  0.0  0.0    0.0     0.0  ...  0.0  0.0   \n",
       "..   ...  ...  ...  ...  ...   ...  ...  ...    ...     ...  ...  ...  ...   \n",
       "995  0.0  0.0  0.0  0.0  0.0   0.0  0.0  0.0    0.0     0.0  ...  0.0  0.0   \n",
       "996  0.0  0.0  0.0  0.0  0.0   0.0  0.0  0.0    0.0     0.0  ...  0.0  0.0   \n",
       "997  0.0  0.0  0.0  0.0  0.0   0.0  0.0  0.0    0.0     0.0  ...  0.0  0.0   \n",
       "998  0.0  0.0  0.0  0.0  0.0   0.0  0.0  0.0    0.0     0.0  ...  0.0  0.0   \n",
       "999  0.0  0.0  0.0  0.0  0.0   0.0  0.0  0.0    0.0     0.0  ...  0.0  0.0   \n",
       "\n",
       "     yup  zimmerman  zimmermans  zionist  zone  IsHateSpeech  IsOffensive  \\\n",
       "0    0.0        0.0         0.0      0.0   0.0             0            0   \n",
       "1    0.0        0.0         0.0      0.0   0.0             0            1   \n",
       "2    0.0        0.0         0.0      0.0   0.0             0            1   \n",
       "3    0.0        0.0         0.0      0.0   0.0             0            0   \n",
       "4    0.0        0.0         0.0      0.0   0.0             0            0   \n",
       "..   ...        ...         ...      ...   ...           ...          ...   \n",
       "995  0.0        0.0         0.0      0.0   0.0             0            0   \n",
       "996  0.0        0.0         0.0      0.0   0.0             1            1   \n",
       "997  0.0        0.0         0.0      0.0   0.0             0            0   \n",
       "998  0.0        0.0         0.0      0.0   0.0             0            0   \n",
       "999  0.0        0.0         0.0      0.0   0.0             0            0   \n",
       "\n",
       "     Category  \n",
       "0           0  \n",
       "1           2  \n",
       "2           2  \n",
       "3           0  \n",
       "4           0  \n",
       "..        ...  \n",
       "995         0  \n",
       "996         2  \n",
       "997         0  \n",
       "998         0  \n",
       "999         0  \n",
       "\n",
       "[1000 rows x 4092 columns]>"
      ]
     },
     "execution_count": 38,
     "metadata": {},
     "output_type": "execute_result"
    }
   ],
   "source": [
    "df.head"
   ]
  },
  {
   "cell_type": "code",
   "execution_count": 39,
   "metadata": {},
   "outputs": [
    {
     "name": "stdout",
     "output_type": "stream",
     "text": [
      "Distribución de clases en 'Category' (en número de ocurrencias):\n",
      "Category\n",
      "0    538\n",
      "2    462\n",
      "Name: count, dtype: int64\n"
     ]
    }
   ],
   "source": [
    "# Ver la distribución de las clases en la columna 'Category' (en números absolutos)\n",
    "distribution = df['Category'].value_counts()\n",
    "\n",
    "# Mostrar la distribución\n",
    "print(\"Distribución de clases en 'Category' (en número de ocurrencias):\")\n",
    "print(distribution)\n",
    "\n"
   ]
  }
 ],
 "metadata": {
  "kernelspec": {
   "display_name": "Python 3",
   "language": "python",
   "name": "python3"
  },
  "language_info": {
   "codemirror_mode": {
    "name": "ipython",
    "version": 3
   },
   "file_extension": ".py",
   "mimetype": "text/x-python",
   "name": "python",
   "nbconvert_exporter": "python",
   "pygments_lexer": "ipython3",
   "version": "3.12.4"
  }
 },
 "nbformat": 4,
 "nbformat_minor": 2
}
